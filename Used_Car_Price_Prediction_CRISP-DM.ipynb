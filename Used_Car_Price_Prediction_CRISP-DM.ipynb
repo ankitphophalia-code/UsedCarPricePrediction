{
 "cells": [
  {
   "cell_type": "markdown",
   "metadata": {},
   "source": [
    "# What drives the price of a car?\n",
    "\n",
    "![](images/kurt.jpeg)"
   ]
  },
  {
   "cell_type": "markdown",
   "metadata": {},
   "source": [
    "**OVERVIEW**\n",
    "\n",
    "In this application, you will explore a dataset from Kaggle. The original dataset contained information on 3 million used cars. The provided dataset contains information on 426K cars to ensure speed of processing.  Your goal is to understand what factors make a car more or less expensive.  As a result of your analysis, you should provide clear recommendations to your client -- a used car dealership -- as to what consumers value in a used car."
   ]
  },
  {
   "cell_type": "markdown",
   "metadata": {},
   "source": [
    "### CRISP-DM Framework\n",
    "\n",
    "<center>\n",
    "    <img src = images/crisp.png width = 50%/>\n",
    "</center>\n",
    "\n",
    "\n",
    "To frame the task, throughout our practical applications, we will refer back to a standard process in industry for data projects called CRISP-DM.  This process provides a framework for working through a data problem.  Your first step in this application will be to read through a brief overview of CRISP-DM [here](https://mo-pcco.s3.us-east-1.amazonaws.com/BH-PCMLAI/module_11/readings_starter.zip).  After reading the overview, answer the questions below."
   ]
  },
  {
   "cell_type": "markdown",
   "metadata": {},
   "source": [
    "### Business Understanding\n",
    "\n",
    "From a business perspective, we are tasked with identifying key drivers for used car prices.  In the CRISP-DM overview, we are asked to convert this business framing to a data problem definition.  Using a few sentences, reframe the task as a data task with the appropriate technical vocabulary. "
   ]
  },
  {
   "cell_type": "markdown",
   "metadata": {},
   "source": []
  },
  {
   "cell_type": "raw",
   "metadata": {},
   "source": [
    "This task involves developing a model to predict used car prices based on various features such as brand, model, mileage, year, fuel type, and condition. The objective is to analyze feature importance, identify patterns in pricing, and extract actionable insights using exploratory data analysis (EDA) and predictive modeling. The goal is to quantify the relationship between these features and price, identify the most influential factors, and build a predictive model that provides accurate price estimations."
   ]
  },
  {
   "cell_type": "code",
   "execution_count": null,
   "metadata": {},
   "outputs": [],
   "source": []
  },
  {
   "cell_type": "code",
   "execution_count": null,
   "metadata": {},
   "outputs": [],
   "source": []
  },
  {
   "cell_type": "markdown",
   "metadata": {},
   "source": [
    "### Data Understanding\n",
    "\n",
    "After considering the business understanding, we want to get familiar with our data.  Write down some steps that you would take to get to know the dataset and identify any quality issues within.  Take time to get to know the dataset and explore what information it contains and how this could be used to inform your business understanding."
   ]
  },
  {
   "cell_type": "code",
   "execution_count": 87,
   "metadata": {},
   "outputs": [],
   "source": [
    "import pandas as pd\n",
    "import matplotlib.pyplot as plt\n",
    "import seaborn as sns\n",
    "import datetime\n",
    "import numpy as np\n",
    "from sklearn.preprocessing import StandardScaler\n",
    "from sklearn.model_selection import train_test_split,RandomizedSearchCV\n",
    "from sklearn.linear_model import LinearRegression, Ridge, Lasso\n",
    "from sklearn.ensemble import RandomForestRegressor, GradientBoostingRegressor\n",
    "from sklearn.svm import SVR\n",
    "from sklearn.model_selection import cross_val_score, GridSearchCV, train_test_split\n",
    "from sklearn.metrics import mean_squared_error, r2_score\n"
   ]
  },
  {
   "cell_type": "code",
   "execution_count": 42,
   "metadata": {},
   "outputs": [
    {
     "name": "stdout",
     "output_type": "stream",
     "text": [
      "Dataset Info:\n",
      "<class 'pandas.core.frame.DataFrame'>\n",
      "RangeIndex: 426880 entries, 0 to 426879\n",
      "Data columns (total 18 columns):\n",
      " #   Column        Non-Null Count   Dtype  \n",
      "---  ------        --------------   -----  \n",
      " 0   id            426880 non-null  int64  \n",
      " 1   region        426880 non-null  object \n",
      " 2   price         426880 non-null  int64  \n",
      " 3   year          425675 non-null  float64\n",
      " 4   manufacturer  409234 non-null  object \n",
      " 5   model         421603 non-null  object \n",
      " 6   condition     252776 non-null  object \n",
      " 7   cylinders     249202 non-null  object \n",
      " 8   fuel          423867 non-null  object \n",
      " 9   odometer      422480 non-null  float64\n",
      " 10  title_status  418638 non-null  object \n",
      " 11  transmission  424324 non-null  object \n",
      " 12  VIN           265838 non-null  object \n",
      " 13  drive         296313 non-null  object \n",
      " 14  size          120519 non-null  object \n",
      " 15  type          334022 non-null  object \n",
      " 16  paint_color   296677 non-null  object \n",
      " 17  state         426880 non-null  object \n",
      "dtypes: float64(2), int64(2), object(14)\n",
      "memory usage: 58.6+ MB\n",
      "None\n",
      "\n",
      "First 5 Rows:\n",
      "           id                  region  price  year manufacturer model  \\\n",
      "0  7222695916                prescott   6000   NaN          NaN   NaN   \n",
      "1  7218891961            fayetteville  11900   NaN          NaN   NaN   \n",
      "2  7221797935            florida keys  21000   NaN          NaN   NaN   \n",
      "3  7222270760  worcester / central MA   1500   NaN          NaN   NaN   \n",
      "4  7210384030              greensboro   4900   NaN          NaN   NaN   \n",
      "\n",
      "  condition cylinders fuel  odometer title_status transmission  VIN drive  \\\n",
      "0       NaN       NaN  NaN       NaN          NaN          NaN  NaN   NaN   \n",
      "1       NaN       NaN  NaN       NaN          NaN          NaN  NaN   NaN   \n",
      "2       NaN       NaN  NaN       NaN          NaN          NaN  NaN   NaN   \n",
      "3       NaN       NaN  NaN       NaN          NaN          NaN  NaN   NaN   \n",
      "4       NaN       NaN  NaN       NaN          NaN          NaN  NaN   NaN   \n",
      "\n",
      "  size type paint_color state  \n",
      "0  NaN  NaN         NaN    az  \n",
      "1  NaN  NaN         NaN    ar  \n",
      "2  NaN  NaN         NaN    fl  \n",
      "3  NaN  NaN         NaN    ma  \n",
      "4  NaN  NaN         NaN    nc  \n"
     ]
    }
   ],
   "source": [
    "#Loading and inspecting the Data\n",
    "\n",
    "df= pd.read_csv (\"data/vehicles.csv\")\n",
    "# Basic information about the DataFrame\n",
    "print(\"Dataset Info:\")\n",
    "print(df.info())\n",
    "\n",
    "# First 5 rows of the dataset\n",
    "print(\"\\nFirst 5 Rows:\")\n",
    "print(df.head())\n",
    "\n"
   ]
  },
  {
   "cell_type": "code",
   "execution_count": 43,
   "metadata": {},
   "outputs": [],
   "source": [
    "#Assessing Data Quality\n",
    "# a. Identifying Missing value\n",
    "# b. Idenitying Duplicate rows"
   ]
  },
  {
   "cell_type": "code",
   "execution_count": 44,
   "metadata": {},
   "outputs": [
    {
     "name": "stdout",
     "output_type": "stream",
     "text": [
      "Missing Values by Column:\n",
      "id                   0\n",
      "region               0\n",
      "price                0\n",
      "year              1205\n",
      "manufacturer     17646\n",
      "model             5277\n",
      "condition       174104\n",
      "cylinders       177678\n",
      "fuel              3013\n",
      "odometer          4400\n",
      "title_status      8242\n",
      "transmission      2556\n",
      "VIN             161042\n",
      "drive           130567\n",
      "size            306361\n",
      "type             92858\n",
      "paint_color     130203\n",
      "state                0\n",
      "dtype: int64\n"
     ]
    }
   ],
   "source": [
    "\n",
    "# Count missing values in each column\n",
    "missing_values = df.isnull().sum()\n",
    "print(\"Missing Values by Column:\")\n",
    "print(missing_values)\n"
   ]
  },
  {
   "cell_type": "code",
   "execution_count": 45,
   "metadata": {},
   "outputs": [
    {
     "name": "stdout",
     "output_type": "stream",
     "text": [
      "\n",
      "Number of Duplicate Rows: 0\n"
     ]
    }
   ],
   "source": [
    "#Duplicate row check\n",
    "duplicate_count = df.duplicated().sum()\n",
    "print(\"\\nNumber of Duplicate Rows:\", duplicate_count)"
   ]
  },
  {
   "cell_type": "code",
   "execution_count": 46,
   "metadata": {},
   "outputs": [],
   "source": [
    "# Summary Statistics  \n",
    "# a. Numerical Statistics\n",
    "# b. Identifying all the categorical cols. \n"
   ]
  },
  {
   "cell_type": "code",
   "execution_count": 47,
   "metadata": {},
   "outputs": [
    {
     "name": "stdout",
     "output_type": "stream",
     "text": [
      "Summary Statistics (Numerical):\n",
      "                 id         price           year      odometer\n",
      "count  4.268800e+05  4.268800e+05  425675.000000  4.224800e+05\n",
      "mean   7.311487e+09  7.519903e+04    2011.235191  9.804333e+04\n",
      "std    4.473170e+06  1.218228e+07       9.452120  2.138815e+05\n",
      "min    7.207408e+09  0.000000e+00    1900.000000  0.000000e+00\n",
      "25%    7.308143e+09  5.900000e+03    2008.000000  3.770400e+04\n",
      "50%    7.312621e+09  1.395000e+04    2013.000000  8.554800e+04\n",
      "75%    7.315254e+09  2.648575e+04    2017.000000  1.335425e+05\n",
      "max    7.317101e+09  3.736929e+09    2022.000000  1.000000e+07\n"
     ]
    }
   ],
   "source": [
    "# Numerical Summary\n",
    "\n",
    "# Summary statistics for numerical columns\n",
    "print(\"Summary Statistics (Numerical):\")\n",
    "print(df.describe())"
   ]
  },
  {
   "cell_type": "code",
   "execution_count": 48,
   "metadata": {},
   "outputs": [
    {
     "name": "stdout",
     "output_type": "stream",
     "text": [
      "\n",
      "Number of Categorical Columns: 14\n",
      "Categorical Columns: ['region', 'manufacturer', 'model', 'condition', 'cylinders', 'fuel', 'title_status', 'transmission', 'VIN', 'drive', 'size', 'type', 'paint_color', 'state']\n"
     ]
    }
   ],
   "source": [
    "#Identifying All the Categorical Cols. \n",
    "categorical_cols = df.select_dtypes(include=[\"object\"]).columns\n",
    "print(\"\\nNumber of Categorical Columns:\", len(categorical_cols))\n",
    "print(\"Categorical Columns:\", list(categorical_cols))"
   ]
  },
  {
   "cell_type": "code",
   "execution_count": 49,
   "metadata": {},
   "outputs": [
    {
     "name": "stdout",
     "output_type": "stream",
     "text": [
      "\n",
      "Top 10 Manufacturers:\n",
      "manufacturer\n",
      "ford               70985\n",
      "chevrolet          55064\n",
      "toyota             34202\n",
      "honda              21269\n",
      "nissan             19067\n",
      "jeep               19014\n",
      "ram                18342\n",
      "gmc                16785\n",
      "bmw                14699\n",
      "dodge              13707\n",
      "mercedes-benz      11817\n",
      "hyundai            10338\n",
      "subaru              9495\n",
      "volkswagen          9345\n",
      "kia                 8457\n",
      "lexus               8200\n",
      "audi                7573\n",
      "cadillac            6953\n",
      "chrysler            6031\n",
      "acura               5978\n",
      "buick               5501\n",
      "mazda               5427\n",
      "infiniti            4802\n",
      "lincoln             4220\n",
      "volvo               3374\n",
      "mitsubishi          3292\n",
      "mini                2376\n",
      "pontiac             2288\n",
      "rover               2113\n",
      "jaguar              1946\n",
      "porsche             1384\n",
      "mercury             1184\n",
      "saturn              1090\n",
      "alfa-romeo           897\n",
      "tesla                868\n",
      "fiat                 792\n",
      "harley-davidson      153\n",
      "ferrari               95\n",
      "datsun                63\n",
      "aston-martin          24\n",
      "land rover            21\n",
      "morgan                 3\n",
      "Name: count, dtype: int64\n",
      "\n",
      "Fuel Type Distribution:\n",
      "fuel\n",
      "gas         356209\n",
      "other        30728\n",
      "diesel       30062\n",
      "hybrid        5170\n",
      "electric      1698\n",
      "Name: count, dtype: int64\n"
     ]
    }
   ],
   "source": [
    "# Example: Frequency counts for 'manufacturer' and 'fuel' columns\n",
    "print(\"\\nTop 10 Manufacturers:\")\n",
    "print(df['manufacturer'].value_counts())\n",
    "\n",
    "print(\"\\nFuel Type Distribution:\")\n",
    "print(df['fuel'].value_counts())"
   ]
  },
  {
   "cell_type": "code",
   "execution_count": 50,
   "metadata": {},
   "outputs": [],
   "source": [
    "#Visualize Data Distributions and Outliers\n",
    "# a. Histogram for the 'price' distribution"
   ]
  },
  {
   "cell_type": "code",
   "execution_count": 51,
   "metadata": {},
   "outputs": [
    {
     "data": {
      "image/png": "[encoded data removed]",
      "text/plain": [
       "<Figure size 800x500 with 1 Axes>"
      ]
     },
     "metadata": {},
     "output_type": "display_data"
    }
   ],
   "source": [
    "# a. Histogram for the 'price' distribution\n",
    "plt.figure(figsize=(8, 5))\n",
    "plt.hist(df['price'], bins=50, edgecolor='k')\n",
    "plt.title('Distribution of Used Car Prices')\n",
    "plt.xlabel('Price')\n",
    "plt.ylabel('Frequency')\n",
    "plt.show()"
   ]
  },
  {
   "cell_type": "code",
   "execution_count": 52,
   "metadata": {},
   "outputs": [
    {
     "name": "stdout",
     "output_type": "stream",
     "text": [
      "Price Column Statistics:\n",
      "count    4.268800e+05\n",
      "mean     7.519903e+04\n",
      "std      1.218228e+07\n",
      "min      0.000000e+00\n",
      "25%      5.900000e+03\n",
      "50%      1.395000e+04\n",
      "75%      2.648575e+04\n",
      "max      3.736929e+09\n",
      "Name: price, dtype: float64\n"
     ]
    }
   ],
   "source": [
    "print(\"Price Column Statistics:\")\n",
    "print(df['price'].describe())"
   ]
  },
  {
   "cell_type": "code",
   "execution_count": 53,
   "metadata": {},
   "outputs": [
    {
     "name": "stdout",
     "output_type": "stream",
     "text": [
      "Number of listings with price == 0: 32895\n"
     ]
    }
   ],
   "source": [
    "zero_price_count = (df['price'] == 0).sum()\n",
    "print(f\"Number of listings with price == 0: {zero_price_count}\")"
   ]
  },
  {
   "cell_type": "code",
   "execution_count": 54,
   "metadata": {},
   "outputs": [
    {
     "data": {
      "image/png": "[encoded data removed]",
      "text/plain": [
       "<Figure size 800x500 with 1 Axes>"
      ]
     },
     "metadata": {},
     "output_type": "display_data"
    }
   ],
   "source": [
    "# b. Boxplot for 'price' to detect outliers\n",
    "plt.figure(figsize=(8, 5))\n",
    "plt.boxplot(df['price'].dropna(), vert=False)\n",
    "plt.title('Boxplot of Used Car Prices')\n",
    "plt.xlabel('Price')\n",
    "plt.show()\n"
   ]
  },
  {
   "cell_type": "markdown",
   "metadata": {},
   "source": [
    "### Data Preparation\n",
    "\n",
    "After our initial exploration and fine-tuning of the business understanding, it is time to construct our final dataset prior to modeling.  Here, we want to make sure to handle any integrity issues and cleaning, the engineering of new features, any transformations that we believe should happen (scaling, logarithms, normalization, etc.), and general preparation for modeling with `sklearn`. "
   ]
  },
  {
   "cell_type": "code",
   "execution_count": 55,
   "metadata": {},
   "outputs": [],
   "source": [
    "# 1. Inspect Missing Data and Get a Sense of Completeness"
   ]
  },
  {
   "cell_type": "code",
   "execution_count": 56,
   "metadata": {},
   "outputs": [
    {
     "name": "stdout",
     "output_type": "stream",
     "text": [
      "Missing Data Overview:\n",
      "              Missing    Percent\n",
      "size           306361  71.767476\n",
      "cylinders      177678  41.622470\n",
      "condition      174104  40.785232\n",
      "VIN            161042  37.725356\n",
      "drive          130567  30.586347\n",
      "paint_color    130203  30.501078\n",
      "type            92858  21.752717\n",
      "manufacturer    17646   4.133714\n",
      "title_status     8242   1.930753\n",
      "model            5277   1.236179\n",
      "odometer         4400   1.030735\n",
      "fuel             3013   0.705819\n",
      "transmission     2556   0.598763\n",
      "year             1205   0.282281\n",
      "id                  0   0.000000\n",
      "region              0   0.000000\n",
      "price               0   0.000000\n",
      "state               0   0.000000\n"
     ]
    }
   ],
   "source": [
    "\n",
    "missing = df.isnull().sum()\n",
    "missing_percent = (missing / len(df)) * 100\n",
    "missing_table = pd.DataFrame({\"Missing\": missing, \"Percent\": missing_percent})\n",
    "print(\"Missing Data Overview:\")\n",
    "print(missing_table.sort_values(\"Percent\", ascending=False))"
   ]
  },
  {
   "cell_type": "code",
   "execution_count": 57,
   "metadata": {},
   "outputs": [],
   "source": [
    "#2. Dropping Columns That Are Likely Irrelevant or Too Incomplete"
   ]
  },
  {
   "cell_type": "code",
   "execution_count": 58,
   "metadata": {},
   "outputs": [
    {
     "data": {
      "text/plain": [
       "(426880, 15)"
      ]
     },
     "execution_count": 58,
     "metadata": {},
     "output_type": "execute_result"
    }
   ],
   "source": [
    "\n",
    "# 'id' and 'VIN' are not useful for modeling.\n",
    "# 'size' has over 70% missing values, so we'll drop it.\n",
    "\n",
    "df.drop(columns=['id', 'VIN', 'size'], inplace=True, errors='ignore')\n",
    "df.shape"
   ]
  },
  {
   "cell_type": "code",
   "execution_count": 59,
   "metadata": {},
   "outputs": [],
   "source": [
    "#3. Dropping Rows with Missing Critical Values"
   ]
  },
  {
   "cell_type": "code",
   "execution_count": 60,
   "metadata": {},
   "outputs": [
    {
     "data": {
      "text/plain": [
       "(426880, 15)"
      ]
     },
     "execution_count": 60,
     "metadata": {},
     "output_type": "execute_result"
    }
   ],
   "source": [
    "\n",
    "# Ensure that rows missing 'price', 'region', or 'state' are removed.\n",
    "df.dropna(subset=['price', 'region', 'state'], inplace=True)\n",
    "df.shape"
   ]
  },
  {
   "cell_type": "code",
   "execution_count": 61,
   "metadata": {},
   "outputs": [],
   "source": [
    "#4. Impute or Fill Missing Values"
   ]
  },
  {
   "cell_type": "code",
   "execution_count": 62,
   "metadata": {},
   "outputs": [
    {
     "name": "stderr",
     "output_type": "stream",
     "text": [
      "C:\\Users\\aphophalia\\AppData\\Local\\Temp\\ipykernel_21112\\116114085.py:2: FutureWarning: A value is trying to be set on a copy of a DataFrame or Series through chained assignment using an inplace method.\n",
      "The behavior will change in pandas 3.0. This inplace method will never work because the intermediate object on which we are setting values always behaves as a copy.\n",
      "\n",
      "For example, when doing 'df[col].method(value, inplace=True)', try using 'df.method({col: value}, inplace=True)' or df[col] = df[col].method(value) instead, to perform the operation inplace on the original object.\n",
      "\n",
      "\n",
      "  df['year'].fillna(df['year'].median(), inplace=True)\n",
      "C:\\Users\\aphophalia\\AppData\\Local\\Temp\\ipykernel_21112\\116114085.py:3: FutureWarning: A value is trying to be set on a copy of a DataFrame or Series through chained assignment using an inplace method.\n",
      "The behavior will change in pandas 3.0. This inplace method will never work because the intermediate object on which we are setting values always behaves as a copy.\n",
      "\n",
      "For example, when doing 'df[col].method(value, inplace=True)', try using 'df.method({col: value}, inplace=True)' or df[col] = df[col].method(value) instead, to perform the operation inplace on the original object.\n",
      "\n",
      "\n",
      "  df['odometer'].fillna(df['odometer'].median(), inplace=True)\n",
      "C:\\Users\\aphophalia\\AppData\\Local\\Temp\\ipykernel_21112\\116114085.py:11: FutureWarning: A value is trying to be set on a copy of a DataFrame or Series through chained assignment using an inplace method.\n",
      "The behavior will change in pandas 3.0. This inplace method will never work because the intermediate object on which we are setting values always behaves as a copy.\n",
      "\n",
      "For example, when doing 'df[col].method(value, inplace=True)', try using 'df.method({col: value}, inplace=True)' or df[col] = df[col].method(value) instead, to perform the operation inplace on the original object.\n",
      "\n",
      "\n",
      "  df[col].fillna(\"Unknown\", inplace=True)\n"
     ]
    },
    {
     "name": "stdout",
     "output_type": "stream",
     "text": [
      "region          0\n",
      "price           0\n",
      "year            0\n",
      "manufacturer    0\n",
      "model           0\n",
      "condition       0\n",
      "cylinders       0\n",
      "fuel            0\n",
      "odometer        0\n",
      "title_status    0\n",
      "transmission    0\n",
      "drive           0\n",
      "type            0\n",
      "paint_color     0\n",
      "state           0\n",
      "dtype: int64\n"
     ]
    }
   ],
   "source": [
    "\n",
    "# For numerical columns with few missing values, fill with median.\n",
    "df['year'].fillna(df['year'].median(), inplace=True)\n",
    "df['odometer'].fillna(df['odometer'].median(), inplace=True)\n",
    "\n",
    "\n",
    "# For categorical columns, fill missing values with \"Unknown\"\n",
    "categorical_cols = ['manufacturer', 'model', 'condition', 'cylinders', \n",
    "                    'fuel', 'title_status', 'transmission', 'drive', 'type', 'paint_color']\n",
    "for col in categorical_cols:\n",
    "    if col in df.columns:\n",
    "        df[col].fillna(\"Unknown\", inplace=True)\n",
    "\n",
    "missing_new = df.isnull().sum()\n",
    "\n",
    "print(missing_new)"
   ]
  },
  {
   "cell_type": "code",
   "execution_count": 63,
   "metadata": {},
   "outputs": [],
   "source": [
    "# 5. Handle Outliers in 'price'"
   ]
  },
  {
   "cell_type": "code",
   "execution_count": 64,
   "metadata": {},
   "outputs": [
    {
     "name": "stdout",
     "output_type": "stream",
     "text": [
      "\n",
      "Price Statistics Before Cleaning:\n",
      "count    4.268800e+05\n",
      "mean     7.519903e+04\n",
      "std      1.218228e+07\n",
      "min      0.000000e+00\n",
      "25%      5.900000e+03\n",
      "50%      1.395000e+04\n",
      "75%      2.648575e+04\n",
      "max      3.736929e+09\n",
      "Name: price, dtype: float64\n"
     ]
    }
   ],
   "source": [
    "\n",
    "# Inspect summary of price\n",
    "print(\"\\nPrice Statistics Before Cleaning:\")\n",
    "print(df['price'].describe())\n"
   ]
  },
  {
   "cell_type": "code",
   "execution_count": 65,
   "metadata": {},
   "outputs": [
    {
     "data": {
      "text/plain": [
       "(393330, 15)"
      ]
     },
     "execution_count": 65,
     "metadata": {},
     "output_type": "execute_result"
    }
   ],
   "source": [
    "# Remove rows with price <= 0 or extremely high prices that are unrealistic for used cars.\n",
    "# (For example, we assume used car prices above $100,000 are errors.)\n",
    "df = df[(df['price'] > 0) & (df['price'] <= 100000)]\n",
    "df.shape"
   ]
  },
  {
   "cell_type": "code",
   "execution_count": 66,
   "metadata": {},
   "outputs": [],
   "source": [
    "#7. Feature Engineering"
   ]
  },
  {
   "cell_type": "code",
   "execution_count": 67,
   "metadata": {},
   "outputs": [
    {
     "data": {
      "text/html": [
       "<div>\n",
       "<style scoped>\n",
       "    .dataframe tbody tr th:only-of-type {\n",
       "        vertical-align: middle;\n",
       "    }\n",
       "\n",
       "    .dataframe tbody tr th {\n",
       "        vertical-align: top;\n",
       "    }\n",
       "\n",
       "    .dataframe thead th {\n",
       "        text-align: right;\n",
       "    }\n",
       "</style>\n",
       "<table border=\"1\" class=\"dataframe\">\n",
       "  <thead>\n",
       "    <tr style=\"text-align: right;\">\n",
       "      <th></th>\n",
       "      <th>region</th>\n",
       "      <th>price</th>\n",
       "      <th>manufacturer</th>\n",
       "      <th>model</th>\n",
       "      <th>condition</th>\n",
       "      <th>cylinders</th>\n",
       "      <th>fuel</th>\n",
       "      <th>odometer</th>\n",
       "      <th>title_status</th>\n",
       "      <th>transmission</th>\n",
       "      <th>drive</th>\n",
       "      <th>type</th>\n",
       "      <th>paint_color</th>\n",
       "      <th>state</th>\n",
       "      <th>car_age</th>\n",
       "    </tr>\n",
       "  </thead>\n",
       "  <tbody>\n",
       "    <tr>\n",
       "      <th>0</th>\n",
       "      <td>prescott</td>\n",
       "      <td>6000</td>\n",
       "      <td>Unknown</td>\n",
       "      <td>Unknown</td>\n",
       "      <td>Unknown</td>\n",
       "      <td>Unknown</td>\n",
       "      <td>Unknown</td>\n",
       "      <td>85548.0</td>\n",
       "      <td>Unknown</td>\n",
       "      <td>Unknown</td>\n",
       "      <td>Unknown</td>\n",
       "      <td>Unknown</td>\n",
       "      <td>Unknown</td>\n",
       "      <td>az</td>\n",
       "      <td>12.0</td>\n",
       "    </tr>\n",
       "    <tr>\n",
       "      <th>1</th>\n",
       "      <td>fayetteville</td>\n",
       "      <td>11900</td>\n",
       "      <td>Unknown</td>\n",
       "      <td>Unknown</td>\n",
       "      <td>Unknown</td>\n",
       "      <td>Unknown</td>\n",
       "      <td>Unknown</td>\n",
       "      <td>85548.0</td>\n",
       "      <td>Unknown</td>\n",
       "      <td>Unknown</td>\n",
       "      <td>Unknown</td>\n",
       "      <td>Unknown</td>\n",
       "      <td>Unknown</td>\n",
       "      <td>ar</td>\n",
       "      <td>12.0</td>\n",
       "    </tr>\n",
       "    <tr>\n",
       "      <th>2</th>\n",
       "      <td>florida keys</td>\n",
       "      <td>21000</td>\n",
       "      <td>Unknown</td>\n",
       "      <td>Unknown</td>\n",
       "      <td>Unknown</td>\n",
       "      <td>Unknown</td>\n",
       "      <td>Unknown</td>\n",
       "      <td>85548.0</td>\n",
       "      <td>Unknown</td>\n",
       "      <td>Unknown</td>\n",
       "      <td>Unknown</td>\n",
       "      <td>Unknown</td>\n",
       "      <td>Unknown</td>\n",
       "      <td>fl</td>\n",
       "      <td>12.0</td>\n",
       "    </tr>\n",
       "    <tr>\n",
       "      <th>3</th>\n",
       "      <td>worcester / central MA</td>\n",
       "      <td>1500</td>\n",
       "      <td>Unknown</td>\n",
       "      <td>Unknown</td>\n",
       "      <td>Unknown</td>\n",
       "      <td>Unknown</td>\n",
       "      <td>Unknown</td>\n",
       "      <td>85548.0</td>\n",
       "      <td>Unknown</td>\n",
       "      <td>Unknown</td>\n",
       "      <td>Unknown</td>\n",
       "      <td>Unknown</td>\n",
       "      <td>Unknown</td>\n",
       "      <td>ma</td>\n",
       "      <td>12.0</td>\n",
       "    </tr>\n",
       "    <tr>\n",
       "      <th>4</th>\n",
       "      <td>greensboro</td>\n",
       "      <td>4900</td>\n",
       "      <td>Unknown</td>\n",
       "      <td>Unknown</td>\n",
       "      <td>Unknown</td>\n",
       "      <td>Unknown</td>\n",
       "      <td>Unknown</td>\n",
       "      <td>85548.0</td>\n",
       "      <td>Unknown</td>\n",
       "      <td>Unknown</td>\n",
       "      <td>Unknown</td>\n",
       "      <td>Unknown</td>\n",
       "      <td>Unknown</td>\n",
       "      <td>nc</td>\n",
       "      <td>12.0</td>\n",
       "    </tr>\n",
       "  </tbody>\n",
       "</table>\n",
       "</div>"
      ],
      "text/plain": [
       "                   region  price manufacturer    model condition cylinders  \\\n",
       "0                prescott   6000      Unknown  Unknown   Unknown   Unknown   \n",
       "1            fayetteville  11900      Unknown  Unknown   Unknown   Unknown   \n",
       "2            florida keys  21000      Unknown  Unknown   Unknown   Unknown   \n",
       "3  worcester / central MA   1500      Unknown  Unknown   Unknown   Unknown   \n",
       "4              greensboro   4900      Unknown  Unknown   Unknown   Unknown   \n",
       "\n",
       "      fuel  odometer title_status transmission    drive     type paint_color  \\\n",
       "0  Unknown   85548.0      Unknown      Unknown  Unknown  Unknown     Unknown   \n",
       "1  Unknown   85548.0      Unknown      Unknown  Unknown  Unknown     Unknown   \n",
       "2  Unknown   85548.0      Unknown      Unknown  Unknown  Unknown     Unknown   \n",
       "3  Unknown   85548.0      Unknown      Unknown  Unknown  Unknown     Unknown   \n",
       "4  Unknown   85548.0      Unknown      Unknown  Unknown  Unknown     Unknown   \n",
       "\n",
       "  state  car_age  \n",
       "0    az     12.0  \n",
       "1    ar     12.0  \n",
       "2    fl     12.0  \n",
       "3    ma     12.0  \n",
       "4    nc     12.0  "
      ]
     },
     "execution_count": 67,
     "metadata": {},
     "output_type": "execute_result"
    }
   ],
   "source": [
    "# Convert 'year' to car age (assuming current year as reference)\n",
    "current_year = datetime.datetime.now().year\n",
    "df['car_age'] = current_year - df['year']\n",
    "# Since we engineered 'car_age', dropping the original 'year'\n",
    "df.drop(columns=['year'], inplace=True)\n",
    "\n",
    "df.head()"
   ]
  },
  {
   "cell_type": "code",
   "execution_count": 68,
   "metadata": {},
   "outputs": [],
   "source": [
    "# 8. Log Transform the Target Variable\n",
    "# This helps reduce skewness in the price distribution.\n",
    "df['price_log'] = np.log1p(df['price'])  # log1p handles zero values safely."
   ]
  },
  {
   "cell_type": "code",
   "execution_count": 69,
   "metadata": {},
   "outputs": [],
   "source": [
    "df.drop(columns=['price'], inplace=True)"
   ]
  },
  {
   "cell_type": "code",
   "execution_count": 70,
   "metadata": {},
   "outputs": [
    {
     "name": "stdout",
     "output_type": "stream",
     "text": [
      "Number of unique models: 28124\n",
      "Number of unique regions: 404\n"
     ]
    }
   ],
   "source": [
    "# 'model,regions ' might have too many unique values, so for simplicity we can drop it \n",
    "unique_models = len(df['model'].unique())\n",
    "print(\"Number of unique models:\", unique_models) # 28124\n",
    "\n",
    "unique_regions = len(df['region'].unique())\n",
    "print(\"Number of unique regions:\", unique_regions) # 404"
   ]
  },
  {
   "cell_type": "code",
   "execution_count": 71,
   "metadata": {},
   "outputs": [
    {
     "name": "stdout",
     "output_type": "stream",
     "text": [
      "(393330, 12)\n"
     ]
    }
   ],
   "source": [
    "\n",
    "#drop 'model' if it introduces too many features\n",
    "if 'model' in df.columns:\n",
    "  df.drop(columns=['model'], inplace=True) # 104 cols. after drop\n",
    "\n",
    "if 'region' in df.columns:\n",
    "    df.drop(columns=['region'], inplace=True)\n",
    "\n",
    "if 'state' in df.columns:\n",
    "    df.drop(columns=['state'], inplace=True)\n",
    "    \n",
    "print(df.shape)"
   ]
  },
  {
   "cell_type": "code",
   "execution_count": 72,
   "metadata": {},
   "outputs": [
    {
     "data": {
      "text/plain": [
       "(393330, 101)"
      ]
     },
     "execution_count": 72,
     "metadata": {},
     "output_type": "execute_result"
    }
   ],
   "source": [
    "# 9. Encode Categorical Variables\n",
    "# We'll use one-hot encoding for key categorical columns. \n",
    "\n",
    "cols_to_encode = ['manufacturer', 'fuel', 'transmission', 'drive', 'type', \n",
    "                  'paint_color', 'condition', 'cylinders', 'title_status']\n",
    "df = pd.get_dummies(df, columns=cols_to_encode, drop_first=True)\n",
    "\n",
    "df.shape"
   ]
  },
  {
   "cell_type": "code",
   "execution_count": 73,
   "metadata": {},
   "outputs": [
    {
     "data": {
      "text/html": [
       "<div>\n",
       "<style scoped>\n",
       "    .dataframe tbody tr th:only-of-type {\n",
       "        vertical-align: middle;\n",
       "    }\n",
       "\n",
       "    .dataframe tbody tr th {\n",
       "        vertical-align: top;\n",
       "    }\n",
       "\n",
       "    .dataframe thead th {\n",
       "        text-align: right;\n",
       "    }\n",
       "</style>\n",
       "<table border=\"1\" class=\"dataframe\">\n",
       "  <thead>\n",
       "    <tr style=\"text-align: right;\">\n",
       "      <th></th>\n",
       "      <th>odometer</th>\n",
       "      <th>car_age</th>\n",
       "      <th>price_log</th>\n",
       "      <th>manufacturer_acura</th>\n",
       "      <th>manufacturer_alfa-romeo</th>\n",
       "      <th>manufacturer_aston-martin</th>\n",
       "      <th>manufacturer_audi</th>\n",
       "      <th>manufacturer_bmw</th>\n",
       "      <th>manufacturer_buick</th>\n",
       "      <th>manufacturer_cadillac</th>\n",
       "      <th>...</th>\n",
       "      <th>cylinders_6 cylinders</th>\n",
       "      <th>cylinders_8 cylinders</th>\n",
       "      <th>cylinders_Unknown</th>\n",
       "      <th>cylinders_other</th>\n",
       "      <th>title_status_clean</th>\n",
       "      <th>title_status_lien</th>\n",
       "      <th>title_status_missing</th>\n",
       "      <th>title_status_parts only</th>\n",
       "      <th>title_status_rebuilt</th>\n",
       "      <th>title_status_salvage</th>\n",
       "    </tr>\n",
       "  </thead>\n",
       "  <tbody>\n",
       "    <tr>\n",
       "      <th>0</th>\n",
       "      <td>-0.064248</td>\n",
       "      <td>-0.206835</td>\n",
       "      <td>8.699681</td>\n",
       "      <td>False</td>\n",
       "      <td>False</td>\n",
       "      <td>False</td>\n",
       "      <td>False</td>\n",
       "      <td>False</td>\n",
       "      <td>False</td>\n",
       "      <td>False</td>\n",
       "      <td>...</td>\n",
       "      <td>False</td>\n",
       "      <td>False</td>\n",
       "      <td>True</td>\n",
       "      <td>False</td>\n",
       "      <td>False</td>\n",
       "      <td>False</td>\n",
       "      <td>False</td>\n",
       "      <td>False</td>\n",
       "      <td>False</td>\n",
       "      <td>False</td>\n",
       "    </tr>\n",
       "    <tr>\n",
       "      <th>1</th>\n",
       "      <td>-0.064248</td>\n",
       "      <td>-0.206835</td>\n",
       "      <td>9.384378</td>\n",
       "      <td>False</td>\n",
       "      <td>False</td>\n",
       "      <td>False</td>\n",
       "      <td>False</td>\n",
       "      <td>False</td>\n",
       "      <td>False</td>\n",
       "      <td>False</td>\n",
       "      <td>...</td>\n",
       "      <td>False</td>\n",
       "      <td>False</td>\n",
       "      <td>True</td>\n",
       "      <td>False</td>\n",
       "      <td>False</td>\n",
       "      <td>False</td>\n",
       "      <td>False</td>\n",
       "      <td>False</td>\n",
       "      <td>False</td>\n",
       "      <td>False</td>\n",
       "    </tr>\n",
       "    <tr>\n",
       "      <th>2</th>\n",
       "      <td>-0.064248</td>\n",
       "      <td>-0.206835</td>\n",
       "      <td>9.952325</td>\n",
       "      <td>False</td>\n",
       "      <td>False</td>\n",
       "      <td>False</td>\n",
       "      <td>False</td>\n",
       "      <td>False</td>\n",
       "      <td>False</td>\n",
       "      <td>False</td>\n",
       "      <td>...</td>\n",
       "      <td>False</td>\n",
       "      <td>False</td>\n",
       "      <td>True</td>\n",
       "      <td>False</td>\n",
       "      <td>False</td>\n",
       "      <td>False</td>\n",
       "      <td>False</td>\n",
       "      <td>False</td>\n",
       "      <td>False</td>\n",
       "      <td>False</td>\n",
       "    </tr>\n",
       "    <tr>\n",
       "      <th>3</th>\n",
       "      <td>-0.064248</td>\n",
       "      <td>-0.206835</td>\n",
       "      <td>7.313887</td>\n",
       "      <td>False</td>\n",
       "      <td>False</td>\n",
       "      <td>False</td>\n",
       "      <td>False</td>\n",
       "      <td>False</td>\n",
       "      <td>False</td>\n",
       "      <td>False</td>\n",
       "      <td>...</td>\n",
       "      <td>False</td>\n",
       "      <td>False</td>\n",
       "      <td>True</td>\n",
       "      <td>False</td>\n",
       "      <td>False</td>\n",
       "      <td>False</td>\n",
       "      <td>False</td>\n",
       "      <td>False</td>\n",
       "      <td>False</td>\n",
       "      <td>False</td>\n",
       "    </tr>\n",
       "    <tr>\n",
       "      <th>4</th>\n",
       "      <td>-0.064248</td>\n",
       "      <td>-0.206835</td>\n",
       "      <td>8.497195</td>\n",
       "      <td>False</td>\n",
       "      <td>False</td>\n",
       "      <td>False</td>\n",
       "      <td>False</td>\n",
       "      <td>False</td>\n",
       "      <td>False</td>\n",
       "      <td>False</td>\n",
       "      <td>...</td>\n",
       "      <td>False</td>\n",
       "      <td>False</td>\n",
       "      <td>True</td>\n",
       "      <td>False</td>\n",
       "      <td>False</td>\n",
       "      <td>False</td>\n",
       "      <td>False</td>\n",
       "      <td>False</td>\n",
       "      <td>False</td>\n",
       "      <td>False</td>\n",
       "    </tr>\n",
       "  </tbody>\n",
       "</table>\n",
       "<p>5 rows × 101 columns</p>\n",
       "</div>"
      ],
      "text/plain": [
       "   odometer   car_age  price_log  manufacturer_acura  manufacturer_alfa-romeo  \\\n",
       "0 -0.064248 -0.206835   8.699681               False                    False   \n",
       "1 -0.064248 -0.206835   9.384378               False                    False   \n",
       "2 -0.064248 -0.206835   9.952325               False                    False   \n",
       "3 -0.064248 -0.206835   7.313887               False                    False   \n",
       "4 -0.064248 -0.206835   8.497195               False                    False   \n",
       "\n",
       "   manufacturer_aston-martin  manufacturer_audi  manufacturer_bmw  \\\n",
       "0                      False              False             False   \n",
       "1                      False              False             False   \n",
       "2                      False              False             False   \n",
       "3                      False              False             False   \n",
       "4                      False              False             False   \n",
       "\n",
       "   manufacturer_buick  manufacturer_cadillac  ...  cylinders_6 cylinders  \\\n",
       "0               False                  False  ...                  False   \n",
       "1               False                  False  ...                  False   \n",
       "2               False                  False  ...                  False   \n",
       "3               False                  False  ...                  False   \n",
       "4               False                  False  ...                  False   \n",
       "\n",
       "   cylinders_8 cylinders  cylinders_Unknown  cylinders_other  \\\n",
       "0                  False               True            False   \n",
       "1                  False               True            False   \n",
       "2                  False               True            False   \n",
       "3                  False               True            False   \n",
       "4                  False               True            False   \n",
       "\n",
       "   title_status_clean  title_status_lien  title_status_missing  \\\n",
       "0               False              False                 False   \n",
       "1               False              False                 False   \n",
       "2               False              False                 False   \n",
       "3               False              False                 False   \n",
       "4               False              False                 False   \n",
       "\n",
       "   title_status_parts only  title_status_rebuilt  title_status_salvage  \n",
       "0                    False                 False                 False  \n",
       "1                    False                 False                 False  \n",
       "2                    False                 False                 False  \n",
       "3                    False                 False                 False  \n",
       "4                    False                 False                 False  \n",
       "\n",
       "[5 rows x 101 columns]"
      ]
     },
     "execution_count": 73,
     "metadata": {},
     "output_type": "execute_result"
    }
   ],
   "source": [
    "# 10. Scale Numerical Features\n",
    "# Scaling 'odometer' and 'car_age' as these features might vary widely.\n",
    "scaler = StandardScaler()\n",
    "df[['odometer', 'car_age']] = scaler.fit_transform(df[['odometer', 'car_age']])\n",
    "\n",
    "df.head()"
   ]
  },
  {
   "cell_type": "markdown",
   "metadata": {},
   "source": [
    "### Modeling\n",
    "\n",
    "With your (almost?) final dataset in hand, it is now time to build some models.  Here, you should build a number of different regression models with the price as the target.  In building your models, you should explore different parameters and be sure to cross-validate your findings."
   ]
  },
  {
   "cell_type": "code",
   "execution_count": 74,
   "metadata": {},
   "outputs": [
    {
     "name": "stdout",
     "output_type": "stream",
     "text": [
      "\n",
      "Training set shape: (314664, 100)\n",
      "Test set shape: (78666, 100)\n"
     ]
    }
   ],
   "source": [
    "# Split the Data into Training and Testing Sets\n",
    "# We'll use the log-transformed price as our target.\n",
    "features = [col for col in df.columns if col not in ['price', 'price_log']]\n",
    "target = 'price_log'\n",
    "\n",
    "X = df[features]\n",
    "y = df[target]\n",
    "\n",
    "X_train, X_test, y_train, y_test = train_test_split(X, y, test_size=0.2, random_state=42)\n",
    "\n",
    "print(\"\\nTraining set shape:\", X_train.shape)\n",
    "print(\"Test set shape:\", X_test.shape)"
   ]
  },
  {
   "cell_type": "code",
   "execution_count": 75,
   "metadata": {},
   "outputs": [],
   "source": [
    "# Function to compute cross-validated RMSE\n",
    "def evaluate_model(model, X, y, cv=5):\n",
    "    # Negative MSE is returned by cross_val_score; convert it to RMSE\n",
    "    scores = cross_val_score(model, X, y, cv=cv, scoring='neg_mean_squared_error',n_jobs= -1)\n",
    "    rmse_scores = np.sqrt(-scores)\n",
    "    return rmse_scores.mean(), rmse_scores.std()"
   ]
  },
  {
   "cell_type": "code",
   "execution_count": 76,
   "metadata": {},
   "outputs": [],
   "source": [
    "# Dictionary of baseline models to evaluate\n",
    "baseline_models = {\n",
    "    \"Linear Regression\": LinearRegression(),\n",
    "    \"Ridge Regression\": Ridge(alpha=1.0),\n",
    "    \"Lasso Regression\": Lasso(alpha=0.1),\n",
    "    \"Random Forest\": RandomForestRegressor(random_state=42),\n",
    "    \"Gradient Boosting\": GradientBoostingRegressor(random_state=42),\n",
    "    #\"SVR\": SVR()\n",
    "}\n"
   ]
  },
  {
   "cell_type": "code",
   "execution_count": 77,
   "metadata": {},
   "outputs": [
    {
     "name": "stdout",
     "output_type": "stream",
     "text": [
      "odometer                     float64\n",
      "car_age                      float64\n",
      "manufacturer_acura              bool\n",
      "manufacturer_alfa-romeo         bool\n",
      "manufacturer_aston-martin       bool\n",
      "                              ...   \n",
      "title_status_lien               bool\n",
      "title_status_missing            bool\n",
      "title_status_parts only         bool\n",
      "title_status_rebuilt            bool\n",
      "title_status_salvage            bool\n",
      "Length: 100, dtype: object\n"
     ]
    }
   ],
   "source": [
    "print(X_train.dtypes)"
   ]
  },
  {
   "cell_type": "code",
   "execution_count": 78,
   "metadata": {},
   "outputs": [
    {
     "name": "stdout",
     "output_type": "stream",
     "text": [
      "Baseline Model Performance (Cross-Validation RMSE):\n",
      "Linear Regression: RMSE = 1.0553 (+/- 0.0078)\n",
      "Ridge Regression: RMSE = 1.0553 (+/- 0.0078)\n",
      "Lasso Regression: RMSE = 1.1769 (+/- 0.0056)\n",
      "Random Forest: RMSE = 0.6968 (+/- 0.0066)\n",
      "Gradient Boosting: RMSE = 0.9777 (+/- 0.0075)\n"
     ]
    }
   ],
   "source": [
    "print(\"Baseline Model Performance (Cross-Validation RMSE):\")\n",
    "results = {}\n",
    "for name, model in baseline_models.items():\n",
    "    mean_rmse, std_rmse = evaluate_model(model, X_train, y_train)\n",
    "    results[name] = (mean_rmse, std_rmse)\n",
    "    print(f\"{name}: RMSE = {mean_rmse:.4f} (+/- {std_rmse:.4f})\")"
   ]
  },
  {
   "cell_type": "code",
   "execution_count": 79,
   "metadata": {},
   "outputs": [
    {
     "name": "stdout",
     "output_type": "stream",
     "text": [
      "{'Linear Regression': (1.055272599257635, 0.007825293104740201), 'Ridge Regression': (1.055260409523132, 0.007838569716597894), 'Lasso Regression': (1.176936679598036, 0.005577708782146496), 'Random Forest': (0.6967743076790686, 0.006603526250741242), 'Gradient Boosting': (0.9776769908002955, 0.0074656055831107)}\n"
     ]
    }
   ],
   "source": [
    "print(results)"
   ]
  },
  {
   "cell_type": "code",
   "execution_count": 84,
   "metadata": {},
   "outputs": [
    {
     "data": {
      "image/png": "[encoded data removed]",
      "text/plain": [
       "<Figure size 1000x600 with 1 Axes>"
      ]
     },
     "metadata": {},
     "output_type": "display_data"
    }
   ],
   "source": [
    "# Create a new dictionary with only the mean RMSE values:\n",
    "mean_rmse_results = {model: result[0] if isinstance(result, tuple) else result \n",
    "                     for model, result in results.items()}\n",
    "\n",
    "#Plot Model Performance Comparison\n",
    "# ---------------------------\n",
    "plt.figure(figsize=(10, 6))\n",
    "plt.bar(mean_rmse_results.keys(), mean_rmse_results.values(), color='skyblue')\n",
    "plt.ylabel(\"5-Fold CV RMSE (Mean)\")\n",
    "plt.title(\"Baseline Model Performance Comparison\")\n",
    "plt.xticks(rotation=45)\n",
    "plt.show()"
   ]
  },
  {
   "cell_type": "code",
   "execution_count": null,
   "metadata": {},
   "outputs": [],
   "source": [
    "# Since RandomForest has the minimum MSE we will use Random Forest has our model and further try to tune it. "
   ]
  },
  {
   "cell_type": "code",
   "execution_count": 89,
   "metadata": {},
   "outputs": [],
   "source": [
    "# Using GridSearchCV tuning the hyperparameters for Random Forest\n",
    "rf_param_grid = {\n",
    "    'n_estimators': [50, 100, 200],\n",
    "    'max_depth': [None, 10, 20],\n",
    "    'min_samples_split': [2, 5, 10]\n",
    "}\n",
    "\n",
    "# Initialize a Random Forest regressor.\n",
    "rf = RandomForestRegressor(random_state=42)\n",
    "rf_random = RandomizedSearchCV(\n",
    "    estimator=rf,\n",
    "    param_distributions=rf_param_grid,\n",
    "    n_iter=5,  # Number of parameter settings sampled\n",
    "    cv=5,\n",
    "    scoring='neg_mean_squared_error',\n",
    "    n_jobs=-1,\n",
    "    random_state=42\n",
    ")\n",
    "\n",
    "rf_random.fit(X_train, y_train)\n",
    "best_rf = rf_random.best_estimator_\n",
    "best_rf_cv_rmse = np.sqrt(-rf_random.best_score_)\n",
    "rf_test_rmse = np.sqrt(mean_squared_error(y_test, best_rf.predict(X_test)))\n",
    "rf_test_r2 = r2_score(y_test, best_rf.predict(X_test))"
   ]
  },
  {
   "cell_type": "code",
   "execution_count": 101,
   "metadata": {},
   "outputs": [
    {
     "name": "stdout",
     "output_type": "stream",
     "text": [
      "\n",
      "Tuned Random Forest RandomizedSearchCV  Test Performance:\n",
      "Best Estimator :-  RandomForestRegressor(n_estimators=50, random_state=42)\n",
      "Best parameters {'n_estimators': 50, 'min_samples_split': 2, 'max_depth': None}\n",
      "Best Cross Validated RMSE:-  0.7004059020146202\n",
      "Test R2 Score:-  0.6912318139946854\n",
      "Test RMSE:-  0.6846989734321803\n"
     ]
    }
   ],
   "source": [
    "\n",
    "print(\"\\nTuned Random Forest RandomizedSearchCV  Test Performance:\")\n",
    "print(\"Best Estimator :- \",best_rf)\n",
    "print(\"Best parameters\",rf_random.best_params_)\n",
    "print(\"Best Cross Validated RMSE:- \", best_rf_cv_rmse)\n",
    "print(\"Test R2 Score:- \", rf_test_r2)\n",
    "print(\"Test RMSE:- \", rf_test_rmse)"
   ]
  },
  {
   "cell_type": "markdown",
   "metadata": {},
   "source": []
  },
  {
   "cell_type": "code",
   "execution_count": 102,
   "metadata": {},
   "outputs": [
    {
     "data": {
      "image/png": "[encoded data removed]",
      "text/plain": [
       "<Figure size 1000x600 with 1 Axes>"
      ]
     },
     "metadata": {},
     "output_type": "display_data"
    }
   ],
   "source": [
    "# Retrieve feature importances from the Random Forest model\n",
    "importances = best_rf.feature_importances_\n",
    "feature_names = X_train.columns\n",
    "# Create a DataFrame for easy plotting\n",
    "feat_importances = pd.DataFrame({'Feature': feature_names, 'Importance': importances})\n",
    "feat_importances.sort_values(by='Importance', ascending=False, inplace=True)\n",
    "\n",
    "# Plot the top 20 most important features\n",
    "plt.figure(figsize=(10, 6))\n",
    "plt.barh(feat_importances['Feature'][:20], feat_importances['Importance'][:20], color='green')\n",
    "plt.xlabel(\"Feature Importance\")\n",
    "plt.title(\"Top 20 Feature Importances from Random Forest\")\n",
    "plt.gca().invert_yaxis()  # Highest importance on top\n",
    "plt.show()"
   ]
  },
  {
   "cell_type": "markdown",
   "metadata": {},
   "source": [
    "### Evaluation\n",
    "\n",
    "With some modeling accomplished, we aim to reflect on what we identify as a high-quality model and what we are able to learn from this.  We should review our business objective and explore how well we can provide meaningful insight into drivers of used car prices.  Your goal now is to distill your findings and determine whether the earlier phases need revisitation and adjustment or if you have information of value to bring back to your client."
   ]
  },
  {
   "cell_type": "markdown",
   "metadata": {},
   "source": [
    "At this stage, we reflect on our modeling efforts to ensure they align with the business objective: identifying the key drivers of used car prices and providing actionable insights to our client. Here's a summary of our evaluation process and findings:\n",
    "\n",
    "Model Performance:\n",
    "\n",
    "Metrics Review:\n",
    "We examined key metrics such as RMSE and R² from our cross-validation and test evaluations. A lower RMSE indicates that our predictions are close to the actual values, and a higher R² reflects that a significant portion of the variance in used car prices is explained by our model.\n",
    "\n",
    "Model Comparison:\n",
    "By evaluating multiple models (Linear Regression, Lasso Regression, Ridge Regression, Gradient Boosting, and Random Forest), we compared their performance. For example, Random Forest model consistently shows a lower RMSE and higher R², it suggests that the non-linear relationships in our data are being well captured.\n",
    "\n",
    "Alignment with Business Objectives:\n",
    "\n",
    "Actionable Insights:\n",
    "Our findings translate directly into actionable strategies. For example, understanding that features luke Odomoter,car_age are most influential and commands higher prices could inform purchasing decisions, inventory management, and targeted marketing efforts.\n",
    "\n",
    "Next Steps:\n",
    "\n",
    "Model Refinement:\n",
    "Based on the evaluation, we can refine our models further by tuning additional hyperparameters or combining multiple models (e.g., stacking) to improve performance.\n",
    "\n",
    "Client Communication:\n",
    "With robust model performance and clear feature importance insights, we are prepared to deliver a comprehensive report to the client. This report will not only detail our predictive accuracy but also translate technical findings into business strategies—highlighting the main drivers of used car prices and suggesting data-driven actions.\n",
    "\n",
    "Iteration:\n",
    "Finally, if our models do not meet the expected performance benchmarks or if certain business questions remain unanswered, we have a solid foundation to iterate on our data preparation and modeling phases."
   ]
  },
  {
   "cell_type": "code",
   "execution_count": null,
   "metadata": {},
   "outputs": [],
   "source": []
  },
  {
   "cell_type": "markdown",
   "metadata": {},
   "source": [
    "### Deployment\n",
    "\n",
    "Now that we've settled on our models and findings, it is time to deliver the information to the client.  You should organize your work as a basic report that details your primary findings.  Keep in mind that your audience is a group of used car dealers interested in fine-tuning their inventory."
   ]
  },
  {
   "cell_type": "markdown",
   "metadata": {},
   "source": [
    "Final Deployment Report: Key Drivers of Used Car Prices :\n",
    "==================================================================\n",
    "Executive Summary\n",
    "We have developed a predictive modeling framework to determine the key drivers behind used car prices. By leveraging various regression techniques—Ridge Regression, Gradient Boosting, and Random Forest—we were able to accurately forecast the log-transformed price of used vehicles. Our evaluation indicates that features such as car age, odometer readings are top factors that influence the car price followed by other factos like drive, Cylinder, fuel,condition etc. It's also observed that specific values of the features like when no value is available for the \"drive\" (drive_unknown) or if the and fuel type is diesel has significant importance in derving the car value.These insights can help dealers fine-tune their inventory and pricing strategies to maximize profitability.\n",
    "\n",
    "Methodology\n",
    "Data Preparation:\n",
    "=================\n",
    "\n",
    "Cleaning and Imputation: Irrelevant columns (e.g., VIN, raw ID) were dropped, while missing values in key features like year and odometer were imputed.\n",
    "Feature Engineering: A new feature, car_age, was derived from the manufacturing year, and the target variable, price, was log-transformed to reduce skewness.\n",
    "Encoding: Categorical variables, including manufacturer, region, and fuel type, were encoded appropriately.\n",
    "Modeling & Evaluation:\n",
    "\n",
    "Baseline Models: A range of models (Linear Regression, Ridge, Lasso, Random Forest, Gradient Boosting) were evaluated using 5-fold cross-validation.\n",
    "Hyperparameter Tuning: GridSearchCV was employed to fine-tune Ridge Regression, Gradient Boosting, and Random Forest models.\n",
    "Performance Metrics: Models were compared using RMSE and R² on both cross-validation and test sets.\n",
    "Feature Importance: We extracted feature importances from the tuned models. For tree-based models, the built-in feature importance metric was used, and for Ridge Regression, the magnitude of the coefficients served as a proxy for importance.\n",
    "Key Findings\n",
    "Model Performance: The Random Forest and Gradient Boosting models provided the lowest RMSE and highest R², indicating that non-linear relationships are significant in predicting used car prices.\n",
    "\n",
    "Influential Features:\n",
    "=====================\n",
    "The top two influential features are : Car Age and Odometer\n",
    "Car Age: Older vehicles significantly impact pricing.\n",
    "Mileage (Odometer): Lower mileage typically correlates with higher prices.\n",
    "\n",
    "Specific feature values that's also contributing :  \n",
    "Drive - When the value of the Drive feature is not uknown\n",
    "Fuel Type: When the fuel types is Diesel\n",
    "\n",
    "Actionable Insights:\n",
    "=====================\n",
    "\n",
    "Inventory Management: Dealers might prioritize vehicles with favorable combinations of lower mileage and optimal age to maintain higher resale values.\n",
    "\n",
    "Pricing Strategy: Emphasizing specific manufacturers or fuel types known to hold their value can drive better pricing strategies.\n",
    "\n",
    "Targeted Marketing: Advertising vehicles that match the features correlated with higher prices may attract more discerning buyers.\n",
    "\n",
    "Recommendations & Next Steps\n",
    "Adopt the Best Performing Model:\n",
    "Implement the tuned Random Forest or Gradient Boosting model for price prediction to support dynamic pricing and inventory decisions.\n",
    "\n",
    "Continuous Data Update:\n",
    "Regularly update the model with new sales data to keep the insights relevant in a changing market.\n",
    "\n",
    "Further Analysis:\n",
    "Explore additional features (e.g., regional economic indicators or seasonal trends) to refine predictions further.\n",
    "\n",
    "Conclusion\n",
    "This comprehensive analysis provides used car dealers with a robust tool for understanding and predicting vehicle prices. By leveraging data-driven insights, dealers can optimize their inventory and pricing strategies, ultimately improving their bottom line. We are confident that these findings offer valuable, actionable intelligence to enhance your business decisions.\n",
    "\n"
   ]
  },
  {
   "cell_type": "code",
   "execution_count": null,
   "metadata": {},
   "outputs": [],
   "source": []
  },
  {
   "cell_type": "code",
   "execution_count": null,
   "metadata": {},
   "outputs": [],
   "source": []
  },
  {
   "cell_type": "code",
   "execution_count": null,
   "metadata": {},
   "outputs": [],
   "source": []
  },
  {
   "cell_type": "code",
   "execution_count": null,
   "metadata": {},
   "outputs": [],
   "source": []
  },
  {
   "cell_type": "code",
   "execution_count": null,
   "metadata": {},
   "outputs": [],
   "source": []
  },
  {
   "cell_type": "code",
   "execution_count": null,
   "metadata": {},
   "outputs": [],
   "source": []
  },
  {
   "cell_type": "code",
   "execution_count": null,
   "metadata": {},
   "outputs": [],
   "source": []
  },
  {
   "cell_type": "code",
   "execution_count": null,
   "metadata": {},
   "outputs": [],
   "source": []
  }
 ],
 "metadata": {
  "kernelspec": {
   "display_name": "base",
   "language": "python",
   "name": "python3"
  },
  "language_info": {
   "codemirror_mode": {
    "name": "ipython",
    "version": 3
   },
   "file_extension": ".py",
   "mimetype": "text/x-python",
   "name": "python",
   "nbconvert_exporter": "python",
   "pygments_lexer": "ipython3",
   "version": "3.12.4"
  },
  "widgets": {
   "application/vnd.jupyter.widget-state+json": {
    "state": {},
    "version_major": 2,
    "version_minor": 0
   }
  }
 },
 "nbformat": 4,
 "nbformat_minor": 4
}
